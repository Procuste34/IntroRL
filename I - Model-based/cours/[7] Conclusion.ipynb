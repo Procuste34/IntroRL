{
 "cells": [
  {
   "cell_type": "markdown",
   "metadata": {},
   "source": [
    "# Planning"
   ]
  },
  {
   "cell_type": "markdown",
   "metadata": {},
   "source": [
    "Les notions et algorithmes vus ici rentrent dans ce qui est appelé la partie model-based du RL, et plus précisement du planning."
   ]
  },
  {
   "cell_type": "markdown",
   "metadata": {},
   "source": [
    "Bien que ces méthodes se soient montrées efficaces dans les différents exemples vus, elles requièrent une connaissance totale du problème et de l'environnement : ses dynamiques ainsi que ses rewards. Dans les cas réels, ceux-ci sont estimés grâce à différentes méthodes de <em>model learning</em>."
   ]
  },
  {
   "cell_type": "markdown",
   "metadata": {},
   "source": [
    "Une autre branche prometteuse du RL est le model-free learning, où l'agent n'établit aucun model de l'environnement et apprend le comportement optimale à adapoter directement grâce à son interaction avec l'environnement. Beaucoup des notions vues dans cette section vont permettre la construction d'algorithmes model-free."
   ]
  },
  {
   "cell_type": "markdown",
   "metadata": {},
   "source": [
    "Bien qu'à première vue, les méthodes de model-free learning et de planning semblent fondamentalement différentes, elles sont en réalité plus proches qu'on peut le penser [voir plus loin]."
   ]
  }
 ],
 "metadata": {
  "kernelspec": {
   "display_name": "Python 3",
   "language": "python",
   "name": "python3"
  },
  "language_info": {
   "codemirror_mode": {
    "name": "ipython",
    "version": 3
   },
   "file_extension": ".py",
   "mimetype": "text/x-python",
   "name": "python",
   "nbconvert_exporter": "python",
   "pygments_lexer": "ipython3",
   "version": "3.7.4"
  }
 },
 "nbformat": 4,
 "nbformat_minor": 4
}
