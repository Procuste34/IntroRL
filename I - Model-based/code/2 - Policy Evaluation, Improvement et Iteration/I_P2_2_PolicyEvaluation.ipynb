{
 "cells": [
  {
   "cell_type": "markdown",
   "metadata": {},
   "source": [
    "### 1. Policy Evaluation"
   ]
  },
  {
   "cell_type": "markdown",
   "metadata": {},
   "source": [
    "#### Rappel"
   ]
  },
  {
   "cell_type": "markdown",
   "metadata": {},
   "source": [
    "L'algorithme de Policy Evaluation calcule $v_\\pi$ pour $\\pi$, pour chaque state $s$. $\\pi$ étant la policy d'un agent, son comportement, et $v_\\pi$ étant une fonction, un tableau en réalité, associant à chaque state $s$ le return espéré en suivant $\\pi$ et en étant dans le state $s$. Ce return équivaut à la somme des futurs rewards reçus à partir du state $s$."
   ]
  },
  {
   "cell_type": "markdown",
   "metadata": {},
   "source": [
    "Ainsi, l'algorithme applique itérativement la première équation d'espérance de Bellman. Voici son update:"
   ]
  },
  {
   "cell_type": "markdown",
   "metadata": {},
   "source": [
    "\\begin{align}\n",
    "V(s) \\; & \\leftarrow \\sum_{a} \\pi(a|s) \\sum_{s'} p(s'|s,a) \\Big[r(s,a,s') + γ V(s') \\Big], \\; \\forall s\n",
    "\\end{align}"
   ]
  },
  {
   "cell_type": "markdown",
   "metadata": {},
   "source": [
    "Qu'on peut aussi écrire :"
   ]
  },
  {
   "cell_type": "markdown",
   "metadata": {},
   "source": [
    "\\begin{align}\n",
    "V(s) \\; & \\leftarrow \\sum_{a} \\pi(a|s) Q(s,a), \\; \\forall s\n",
    "\\end{align}"
   ]
  },
  {
   "cell_type": "markdown",
   "metadata": {},
   "source": [
    "___"
   ]
  },
  {
   "cell_type": "markdown",
   "metadata": {},
   "source": [
    "<img src=\"./PE.png\" width=\"550\" height=\"200\" align=\"center\"/>"
   ]
  },
  {
   "cell_type": "markdown",
   "metadata": {},
   "source": [
    "___"
   ]
  },
  {
   "cell_type": "markdown",
   "metadata": {},
   "source": [
    "#### Environnement"
   ]
  },
  {
   "cell_type": "markdown",
   "metadata": {},
   "source": [
    "Implémentation du Row Gridworld"
   ]
  },
  {
   "cell_type": "code",
   "execution_count": 8,
   "metadata": {},
   "outputs": [],
   "source": [
    "class GridworldRow():\n",
    "    def __init__(self, size=5):\n",
    "        self.size = size\n",
    "\n",
    "        self.nS = size\n",
    "        self.nA = 2\n",
    "\n",
    "        self.MAX_X = size-1\n",
    "\n",
    "        P = {}\n",
    "        \n",
    "        for s in range(self.nS):                \n",
    "            dynamics_s = {}\n",
    "            \n",
    "            for a in range(self.nA):\n",
    "                s_prime_list = []\n",
    "\n",
    "                p = 1 if s != 0 and s != self.nS-1 else 0\n",
    "\n",
    "                if(a == 0):\n",
    "                    s_prime = max(0, s-1)\n",
    "                else:\n",
    "                    s_prime = min(self.MAX_X, s+1)\n",
    "\n",
    "                if (s_prime == 0):\n",
    "                    reward = -100\n",
    "                    done = True\n",
    "                elif(s_prime == self.MAX_X):\n",
    "                    reward = 10\n",
    "                    done = True\n",
    "                else:\n",
    "                    reward = 0\n",
    "                    done = False\n",
    "\n",
    "                s_prime_list.append((p, s_prime, reward, done))\n",
    "                dynamics_s.update({a:s_prime_list})\n",
    "\n",
    "            P.update({s: dynamics_s})\n",
    "            \n",
    "        self.P = P  "
   ]
  },
  {
   "cell_type": "markdown",
   "metadata": {},
   "source": [
    "#### Algorithme"
   ]
  },
  {
   "cell_type": "code",
   "execution_count": 9,
   "metadata": {},
   "outputs": [],
   "source": [
    "import numpy as np"
   ]
  },
  {
   "cell_type": "code",
   "execution_count": 10,
   "metadata": {},
   "outputs": [],
   "source": [
    "env = GridworldRow()"
   ]
  },
  {
   "cell_type": "code",
   "execution_count": 11,
   "metadata": {},
   "outputs": [],
   "source": [
    "pi = np.ones([env.nS, env.nA]) * 0.5\n",
    "V = np.zeros([env.nS, 1])\n",
    "\n",
    "gamma = 0.99 #facteur de remise du return\n",
    "theta = 0.00001 #seuil de similitude requis pour stopper les updates"
   ]
  },
  {
   "cell_type": "markdown",
   "metadata": {},
   "source": [
    "Fonction qui calcule $q_\\pi(s,a)$ grâce à $V$. Renvoit donc $Q(s,a) = \\sum_{s'}p(s'|s,a) \\Big[r(s,a,s') + \\gamma V(s') \\Big]$"
   ]
  },
  {
   "cell_type": "code",
   "execution_count": 12,
   "metadata": {},
   "outputs": [],
   "source": [
    "def compute_q_value_for_s_a(env, V, s, a, gamma):\n",
    "    q = 0\n",
    "    \n",
    "    for (p_sPrime, sPrime, r_ss_a, done) in env.P[s][a]:\n",
    "        q += p_sPrime * (r_ss_a + gamma * V[sPrime])\n",
    "        \n",
    "    return q"
   ]
  },
  {
   "cell_type": "markdown",
   "metadata": {},
   "source": [
    "Boucles d'updates :"
   ]
  },
  {
   "cell_type": "code",
   "execution_count": 13,
   "metadata": {},
   "outputs": [
    {
     "name": "stdout",
     "output_type": "stream",
     "text": [
      "Terminé après 22 itérations\n"
     ]
    }
   ],
   "source": [
    "i=0\n",
    "while True:\n",
    "    i+=1\n",
    "    delta = 0\n",
    "    \n",
    "    for s in range(env.nS):\n",
    "        V_new = 0\n",
    "\n",
    "        for a in range(env.nA):\n",
    "            prob_a = pi[s][a]\n",
    "            q_s_a = compute_q_value_for_s_a(env, V, s, a, gamma)\n",
    "\n",
    "            V_new += prob_a * q_s_a\n",
    "\n",
    "        delta = max(delta, np.abs(V_new - V[s]))\n",
    "        V[s] = V_new\n",
    "\n",
    "    if(delta < theta) :\n",
    "        print(\"Terminé après \" + str(i) + \" itérations\")\n",
    "        break"
   ]
  },
  {
   "cell_type": "code",
   "execution_count": 14,
   "metadata": {},
   "outputs": [
    {
     "data": {
      "text/plain": [
       "array([[  0.        ],\n",
       "       [-71.62196676],\n",
       "       [-43.6807471 ],\n",
       "       [-16.62196981],\n",
       "       [  0.        ]])"
      ]
     },
     "execution_count": 14,
     "metadata": {},
     "output_type": "execute_result"
    }
   ],
   "source": [
    "V"
   ]
  },
  {
   "cell_type": "code",
   "execution_count": null,
   "metadata": {},
   "outputs": [],
   "source": []
  }
 ],
 "metadata": {
  "kernelspec": {
   "display_name": "Python 3",
   "language": "python",
   "name": "python3"
  },
  "language_info": {
   "codemirror_mode": {
    "name": "ipython",
    "version": 3
   },
   "file_extension": ".py",
   "mimetype": "text/x-python",
   "name": "python",
   "nbconvert_exporter": "python",
   "pygments_lexer": "ipython3",
   "version": "3.7.4"
  }
 },
 "nbformat": 4,
 "nbformat_minor": 4
}
