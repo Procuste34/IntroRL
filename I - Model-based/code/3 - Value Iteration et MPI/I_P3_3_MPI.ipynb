{
 "cells": [
  {
   "cell_type": "markdown",
   "metadata": {},
   "source": [
    "### 1. Modified Policy Iteration"
   ]
  },
  {
   "cell_type": "markdown",
   "metadata": {},
   "source": [
    "#### Rappel"
   ]
  },
  {
   "cell_type": "markdown",
   "metadata": {},
   "source": [
    "L'algorithme de Modified Policy Iteration reprendre exactement la même structure que celui de Policy Iteration. La seule différence entre ses deux algorithmes est la taĉhe de <b>prédiction</b>, qui, dans le cas du MPI, n'est pas faite complètement. En effet, on part du principe que $k$ updates de $V$ suffisent à déterminer les meilleurs actions pour chaque state dans la phase de <b>contrôle</b>. Autrement dit, on n'a pas besoin d'attendre une convergence parfaite de $V$ à $v_\\pi$ afin d'enchaîner sur la phase de <b>contrôle</b>."
   ]
  },
  {
   "cell_type": "markdown",
   "metadata": {},
   "source": [
    "#### Environnement"
   ]
  },
  {
   "cell_type": "code",
   "execution_count": 1,
   "metadata": {},
   "outputs": [],
   "source": [
    "class GridworldRow():\n",
    "    def __init__(self, size=5):\n",
    "        self.size = size\n",
    "\n",
    "        self.nS = size\n",
    "        self.nA = 2\n",
    "\n",
    "        self.MAX_X = size-1\n",
    "\n",
    "        P = {}\n",
    "        \n",
    "        for s in range(self.nS):                \n",
    "            dynamics_s = {}\n",
    "            \n",
    "            for a in range(self.nA):\n",
    "                s_prime_list = []\n",
    "\n",
    "                p = 1 if s != 0 and s != self.nS-1 else 0\n",
    "\n",
    "                if(a == 0):\n",
    "                    s_prime = max(0, s-1)\n",
    "                else:\n",
    "                    s_prime = min(self.MAX_X, s+1)\n",
    "\n",
    "                if (s_prime == 0):\n",
    "                    reward = -100\n",
    "                    done = True\n",
    "                elif(s_prime == self.MAX_X):\n",
    "                    reward = 10\n",
    "                    done = True\n",
    "                else:\n",
    "                    reward = 0\n",
    "                    done = False\n",
    "\n",
    "                s_prime_list.append((p, s_prime, reward, done))\n",
    "                dynamics_s.update({a:s_prime_list})\n",
    "\n",
    "            P.update({s: dynamics_s})\n",
    "            \n",
    "        self.P = P "
   ]
  },
  {
   "cell_type": "markdown",
   "metadata": {},
   "source": [
    "#### Algorithme"
   ]
  },
  {
   "cell_type": "code",
   "execution_count": 2,
   "metadata": {},
   "outputs": [],
   "source": [
    "import numpy as np"
   ]
  },
  {
   "cell_type": "code",
   "execution_count": 3,
   "metadata": {},
   "outputs": [],
   "source": [
    "env = GridworldRow()"
   ]
  },
  {
   "cell_type": "code",
   "execution_count": 4,
   "metadata": {},
   "outputs": [],
   "source": [
    "def compute_q_value_for_s_a(env, V, s, a, gamma):\n",
    "    q = 0\n",
    "    \n",
    "    for (p_sPrime, sPrime, r_ss_a, done) in env.P[s][a]:\n",
    "        q += p_sPrime * (r_ss_a + gamma * V[sPrime])\n",
    "        \n",
    "    return q"
   ]
  },
  {
   "cell_type": "code",
   "execution_count": 5,
   "metadata": {},
   "outputs": [],
   "source": [
    "def evaluate_policy(env, pi, V, gamma, k):    \n",
    "    V_updated = np.copy(V)\n",
    "    improved = True\n",
    "    \n",
    "    for i in range(k):      \n",
    "        for s in range(env.nS):\n",
    "            V_new = 0\n",
    "        \n",
    "            for a in range(env.nA):\n",
    "                prob_a = pi[s][a]\n",
    "                q_s_a = compute_q_value_for_s_a(env, V_updated, s, a, gamma)\n",
    "            \n",
    "                V_new += prob_a * q_s_a\n",
    "        \n",
    "            V_updated[s] = V_new\n",
    "    \n",
    "    if(np.array_equal(V, V_updated)):\n",
    "        improved = False\n",
    "    \n",
    "    return V_updated, improved\n",
    "\n",
    "def improve_policy(env, pi, V, gamma):    \n",
    "    for s in range(env.nS):\n",
    "        q_s = np.zeros([env.nA, 1])\n",
    "    \n",
    "        for a in range(env.nA):\n",
    "            q_s[a] = compute_q_value_for_s_a(env, V, s, a, gamma)\n",
    "        \n",
    "        best_a = np.argmax(q_s)\n",
    "        pi[s] = np.eye(env.nA)[best_a]\n",
    "    \n",
    "    return pi"
   ]
  },
  {
   "cell_type": "code",
   "execution_count": 6,
   "metadata": {},
   "outputs": [],
   "source": [
    "pi = np.ones([env.nS, env.nA]) * 0.5\n",
    "V = np.zeros([env.nS, 1])\n",
    "\n",
    "k = 5 #paramètre du MPI\n",
    "gamma = 0.99 #facteur de remise du return"
   ]
  },
  {
   "cell_type": "code",
   "execution_count": 7,
   "metadata": {},
   "outputs": [
    {
     "name": "stdout",
     "output_type": "stream",
     "text": [
      "Terminé après 3 iterations.\n"
     ]
    }
   ],
   "source": [
    "i = 0\n",
    "while True:\n",
    "    i+=1\n",
    "    \n",
    "    V, improved = evaluate_policy(env, pi, V, gamma, k)\n",
    "    pi = improve_policy(env, pi, V, gamma)\n",
    "    \n",
    "    if(improved == False):\n",
    "        print(\"Terminé après \" + str(i) + \" iterations.\")\n",
    "        break"
   ]
  },
  {
   "cell_type": "code",
   "execution_count": 8,
   "metadata": {},
   "outputs": [
    {
     "data": {
      "text/plain": [
       "array([[1., 0.],\n",
       "       [0., 1.],\n",
       "       [0., 1.],\n",
       "       [0., 1.],\n",
       "       [1., 0.]])"
      ]
     },
     "execution_count": 8,
     "metadata": {},
     "output_type": "execute_result"
    }
   ],
   "source": [
    "pi"
   ]
  },
  {
   "cell_type": "code",
   "execution_count": null,
   "metadata": {},
   "outputs": [],
   "source": []
  }
 ],
 "metadata": {
  "kernelspec": {
   "display_name": "Python 3",
   "language": "python",
   "name": "python3"
  },
  "language_info": {
   "codemirror_mode": {
    "name": "ipython",
    "version": 3
   },
   "file_extension": ".py",
   "mimetype": "text/x-python",
   "name": "python",
   "nbconvert_exporter": "python",
   "pygments_lexer": "ipython3",
   "version": "3.7.4"
  }
 },
 "nbformat": 4,
 "nbformat_minor": 4
}
