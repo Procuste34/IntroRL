{
 "cells": [
  {
   "cell_type": "markdown",
   "metadata": {},
   "source": [
    "### 2. Value Iteration"
   ]
  },
  {
   "cell_type": "markdown",
   "metadata": {},
   "source": [
    "#### Rappel"
   ]
  },
  {
   "cell_type": "markdown",
   "metadata": {},
   "source": [
    "L'algorithme de Value Iteration est un cas spécial de l'algorithme de MPI. En effet, il est exactement équivalent au MPI dont $k=1$. Cela a pour conséquence qu'on re écrire différement l'algo de VI, en s'aidant de la première équation d'optimalité de Bellman. Ainsi, on calcule directement $v_*$: (voir vidéo I.5 pour plus de détails)"
   ]
  },
  {
   "cell_type": "markdown",
   "metadata": {},
   "source": [
    "\\begin{align}\n",
    "V(s) \\leftarrow max_a \\Big[ \\sum_{s'} p(s'|s,a) \\big[r(s,a,s') + \\gamma V(s') \\big] \\Big], \\; \\forall s\n",
    "\\end{align}"
   ]
  },
  {
   "cell_type": "markdown",
   "metadata": {},
   "source": [
    "#### Environnement"
   ]
  },
  {
   "cell_type": "code",
   "execution_count": 1,
   "metadata": {},
   "outputs": [],
   "source": [
    "class GridworldRow():\n",
    "    def __init__(self, size=5):\n",
    "        self.size = size\n",
    "\n",
    "        self.nS = size\n",
    "        self.nA = 2\n",
    "\n",
    "        self.MAX_X = size-1\n",
    "\n",
    "        P = {}\n",
    "        \n",
    "        for s in range(self.nS):                \n",
    "            dynamics_s = {}\n",
    "            \n",
    "            for a in range(self.nA):\n",
    "                s_prime_list = []\n",
    "\n",
    "                p = 1 if s != 0 and s != self.nS-1 else 0\n",
    "\n",
    "                if(a == 0):\n",
    "                    s_prime = max(0, s-1)\n",
    "                else:\n",
    "                    s_prime = min(self.MAX_X, s+1)\n",
    "\n",
    "                if (s_prime == 0):\n",
    "                    reward = -100\n",
    "                    done = True\n",
    "                elif(s_prime == self.MAX_X):\n",
    "                    reward = 10\n",
    "                    done = True\n",
    "                else:\n",
    "                    reward = 0\n",
    "                    done = False\n",
    "\n",
    "                s_prime_list.append((p, s_prime, reward, done))\n",
    "                dynamics_s.update({a:s_prime_list})\n",
    "\n",
    "            P.update({s: dynamics_s})\n",
    "            \n",
    "        self.P = P "
   ]
  },
  {
   "cell_type": "markdown",
   "metadata": {},
   "source": [
    "#### Algorithme"
   ]
  },
  {
   "cell_type": "code",
   "execution_count": 2,
   "metadata": {},
   "outputs": [],
   "source": [
    "import numpy as np"
   ]
  },
  {
   "cell_type": "code",
   "execution_count": 3,
   "metadata": {},
   "outputs": [],
   "source": [
    "env = GridworldRow()"
   ]
  },
  {
   "cell_type": "code",
   "execution_count": 4,
   "metadata": {},
   "outputs": [],
   "source": [
    "def compute_q_value_for_s_a(env, V, s, a, gamma):\n",
    "    q = 0\n",
    "    \n",
    "    for (p_sPrime, sPrime, r_ss_a, done) in env.P[s][a]:\n",
    "        q += p_sPrime * (r_ss_a + gamma * V[sPrime])\n",
    "        \n",
    "    return q"
   ]
  },
  {
   "cell_type": "code",
   "execution_count": 5,
   "metadata": {},
   "outputs": [],
   "source": [
    "V = np.zeros([env.nS, 1])\n",
    "\n",
    "gamma = 0.99 #facteur de remise du return\n",
    "theta = 0.00001 #seuil de similitude requis pour stopper les updates"
   ]
  },
  {
   "cell_type": "code",
   "execution_count": 6,
   "metadata": {},
   "outputs": [
    {
     "name": "stdout",
     "output_type": "stream",
     "text": [
      "Terminé après 4 itérations.\n"
     ]
    }
   ],
   "source": [
    "i=0\n",
    "while True:\n",
    "    i+=1\n",
    "    delta = 0\n",
    "    \n",
    "    for s in range(env.nS):\n",
    "        q_s = np.zeros([env.nA, 1])\n",
    "        \n",
    "        for a in range(env.nA):\n",
    "            q_s[a] = compute_q_value_for_s_a(env, V, s, a, gamma)\n",
    "\n",
    "        newV = np.max(q_s)\n",
    "        delta = max(delta, np.abs(newV - V[s]))\n",
    "        V[s] = newV\n",
    "        \n",
    "    if(delta < theta):\n",
    "        print(\"Terminé après \" + str(i) + \" itérations.\")\n",
    "        break"
   ]
  },
  {
   "cell_type": "code",
   "execution_count": 7,
   "metadata": {},
   "outputs": [
    {
     "data": {
      "text/plain": [
       "array([[ 0.   ],\n",
       "       [ 9.801],\n",
       "       [ 9.9  ],\n",
       "       [10.   ],\n",
       "       [ 0.   ]])"
      ]
     },
     "execution_count": 7,
     "metadata": {},
     "output_type": "execute_result"
    }
   ],
   "source": [
    "V"
   ]
  },
  {
   "cell_type": "code",
   "execution_count": null,
   "metadata": {},
   "outputs": [],
   "source": []
  }
 ],
 "metadata": {
  "kernelspec": {
   "display_name": "Python 3",
   "language": "python",
   "name": "python3"
  },
  "language_info": {
   "codemirror_mode": {
    "name": "ipython",
    "version": 3
   },
   "file_extension": ".py",
   "mimetype": "text/x-python",
   "name": "python",
   "nbconvert_exporter": "python",
   "pygments_lexer": "ipython3",
   "version": "3.7.4"
  }
 },
 "nbformat": 4,
 "nbformat_minor": 4
}
